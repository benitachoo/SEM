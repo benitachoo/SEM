{
 "cells": [
  {
   "cell_type": "markdown",
   "id": "eddb2887",
   "metadata": {},
   "source": [
    "## Introduction\n",
    "<p>Create a prototype set of keywords for search campaigns for an online furniture retailer. The retailer wants to generate keywords for the following products: </p>\n",
    "<ul>\n",
    "<li>sofas</li>\n",
    "<li>convertible sofas</li>\n",
    "<li>love seats</li>\n",
    "<li>recliners</li>\n",
    "<li>sofa beds</li>\n",
    "</ul>\n",
    "<p>The client is generally a low-cost retailer, offering many promotions and discounts and targeting price-sensitive customers. The client is also tight on budget.</p>"
   ]
  },
  {
   "cell_type": "code",
   "execution_count": 14,
   "id": "e5c176b7",
   "metadata": {},
   "outputs": [],
   "source": [
    "# Generate a list for the product names\n",
    "products = ['sofas', 'convertible sofas', 'love seats', 'recliners', 'sofa beds']\n",
    "\n",
    "# Generate a list of words to pair with the products that users might use to express their desire in buying low-cost sofas\n",
    "words = ['buy', 'price', 'discount', 'promotion', 'promo', 'shop', 'budget', 'cheap', 'affordable']"
   ]
  },
  {
   "cell_type": "markdown",
   "id": "c8146eff",
   "metadata": {},
   "source": [
    "## Combine the keywords and product names\n",
    "<p>After brainstorming the words that work well with the brief, we need to combine them with the product names to generate meaningful search keywords. We will combine every word with every product once before, and once after.</p>"
   ]
  },
  {
   "cell_type": "code",
   "execution_count": 13,
   "id": "7896929e",
   "metadata": {
    "scrolled": true
   },
   "outputs": [
    {
     "name": "stdout",
     "output_type": "stream",
     "text": [
      "[['sofas', 'sofas buy'],\n",
      " ['sofas', 'buy sofas'],\n",
      " ['sofas', 'sofas price'],\n",
      " ['sofas', 'price sofas'],\n",
      " ['sofas', 'sofas discount'],\n",
      " ['sofas', 'discount sofas'],\n",
      " ['sofas', 'sofas promotion'],\n",
      " ['sofas', 'promotion sofas'],\n",
      " ['sofas', 'sofas promo'],\n",
      " ['sofas', 'promo sofas'],\n",
      " ['sofas', 'sofas shop'],\n",
      " ['sofas', 'shop sofas'],\n",
      " ['sofas', 'sofas budget'],\n",
      " ['sofas', 'budget sofas'],\n",
      " ['sofas', 'sofas cheap'],\n",
      " ['sofas', 'cheap sofas'],\n",
      " ['sofas', 'sofas affordable'],\n",
      " ['sofas', 'affordable sofas'],\n",
      " ['convertible sofas', 'convertible sofas buy'],\n",
      " ['convertible sofas', 'buy convertible sofas'],\n",
      " ['convertible sofas', 'convertible sofas price'],\n",
      " ['convertible sofas', 'price convertible sofas'],\n",
      " ['convertible sofas', 'convertible sofas discount'],\n",
      " ['convertible sofas', 'discount convertible sofas'],\n",
      " ['convertible sofas', 'convertible sofas promotion'],\n",
      " ['convertible sofas', 'promotion convertible sofas'],\n",
      " ['convertible sofas', 'convertible sofas promo'],\n",
      " ['convertible sofas', 'promo convertible sofas'],\n",
      " ['convertible sofas', 'convertible sofas shop'],\n",
      " ['convertible sofas', 'shop convertible sofas'],\n",
      " ['convertible sofas', 'convertible sofas budget'],\n",
      " ['convertible sofas', 'budget convertible sofas'],\n",
      " ['convertible sofas', 'convertible sofas cheap'],\n",
      " ['convertible sofas', 'cheap convertible sofas'],\n",
      " ['convertible sofas', 'convertible sofas affordable'],\n",
      " ['convertible sofas', 'affordable convertible sofas'],\n",
      " ['love seats', 'love seats buy'],\n",
      " ['love seats', 'buy love seats'],\n",
      " ['love seats', 'love seats price'],\n",
      " ['love seats', 'price love seats'],\n",
      " ['love seats', 'love seats discount'],\n",
      " ['love seats', 'discount love seats'],\n",
      " ['love seats', 'love seats promotion'],\n",
      " ['love seats', 'promotion love seats'],\n",
      " ['love seats', 'love seats promo'],\n",
      " ['love seats', 'promo love seats'],\n",
      " ['love seats', 'love seats shop'],\n",
      " ['love seats', 'shop love seats'],\n",
      " ['love seats', 'love seats budget'],\n",
      " ['love seats', 'budget love seats'],\n",
      " ['love seats', 'love seats cheap'],\n",
      " ['love seats', 'cheap love seats'],\n",
      " ['love seats', 'love seats affordable'],\n",
      " ['love seats', 'affordable love seats'],\n",
      " ['recliners', 'recliners buy'],\n",
      " ['recliners', 'buy recliners'],\n",
      " ['recliners', 'recliners price'],\n",
      " ['recliners', 'price recliners'],\n",
      " ['recliners', 'recliners discount'],\n",
      " ['recliners', 'discount recliners'],\n",
      " ['recliners', 'recliners promotion'],\n",
      " ['recliners', 'promotion recliners'],\n",
      " ['recliners', 'recliners promo'],\n",
      " ['recliners', 'promo recliners'],\n",
      " ['recliners', 'recliners shop'],\n",
      " ['recliners', 'shop recliners'],\n",
      " ['recliners', 'recliners budget'],\n",
      " ['recliners', 'budget recliners'],\n",
      " ['recliners', 'recliners cheap'],\n",
      " ['recliners', 'cheap recliners'],\n",
      " ['recliners', 'recliners affordable'],\n",
      " ['recliners', 'affordable recliners'],\n",
      " ['sofa beds', 'sofa beds buy'],\n",
      " ['sofa beds', 'buy sofa beds'],\n",
      " ['sofa beds', 'sofa beds price'],\n",
      " ['sofa beds', 'price sofa beds'],\n",
      " ['sofa beds', 'sofa beds discount'],\n",
      " ['sofa beds', 'discount sofa beds'],\n",
      " ['sofa beds', 'sofa beds promotion'],\n",
      " ['sofa beds', 'promotion sofa beds'],\n",
      " ['sofa beds', 'sofa beds promo'],\n",
      " ['sofa beds', 'promo sofa beds'],\n",
      " ['sofa beds', 'sofa beds shop'],\n",
      " ['sofa beds', 'shop sofa beds'],\n",
      " ['sofa beds', 'sofa beds budget'],\n",
      " ['sofa beds', 'budget sofa beds'],\n",
      " ['sofa beds', 'sofa beds cheap'],\n",
      " ['sofa beds', 'cheap sofa beds'],\n",
      " ['sofa beds', 'sofa beds affordable'],\n",
      " ['sofa beds', 'affordable sofa beds']]\n"
     ]
    }
   ],
   "source": [
    "# Create an empty list\n",
    "keywords_list = []\n",
    "\n",
    "# Loop through products\n",
    "for product in products:\n",
    "    # Loop through words\n",
    "    for word in words:\n",
    "        # Combine list of products with list of words and append to the empty list\n",
    "        keywords_list.append([product, product + ' ' + word])\n",
    "        keywords_list.append([product, word + ' ' + product])\n",
    "        \n",
    "# Inspect keyword list\n",
    "from pprint import pprint\n",
    "pprint(keywords_list)"
   ]
  },
  {
   "cell_type": "markdown",
   "id": "4d7945f0",
   "metadata": {},
   "source": [
    "## Convert the list into a DataFrame\n",
    "<p>Next, we convert keywords_list into a DataFrame so we can easily manipulate it and manage the final output.</p>"
   ]
  },
  {
   "cell_type": "code",
   "execution_count": null,
   "id": "0cda4f32",
   "metadata": {},
   "outputs": [],
   "source": [
    "# Load library\n",
    "import pandas as pd\n",
    "\n",
    "# Create a DataFrame from the keywords_list\n",
    "keywords_df = pd.DataFrame.from_records(keywords_list)\n",
    "\n",
    "# Print the keywords DataFrame to explore it\n",
    "print(keywords_df.head())"
   ]
  },
  {
   "cell_type": "markdown",
   "id": "1467a82d",
   "metadata": {},
   "source": [
    "## Rename the columns in the DataFrame\n",
    "<p>If we inspect the DataFrame we just created above, we can see that the columns are currently named <code>0</code> and <code>1</code>. We will need to give the columns of the DataFrame meaningful names.</p>"
   ]
  },
  {
   "cell_type": "code",
   "execution_count": 11,
   "id": "5ed5c2a8",
   "metadata": {},
   "outputs": [],
   "source": [
    "# Rename the columns of the DataFrame\n",
    "keywords_df = keywords_df.rename(columns={0:'Ad Group', 1:'Keyword'})"
   ]
  },
  {
   "cell_type": "markdown",
   "id": "fee2d987",
   "metadata": {},
   "source": [
    "## Add a column for Campaign\n",
    "<p>We need to add some additional information to our DataFrame, namely the marketing campaign name. We will add a new column called <code>Campaign</code> for the campaign name. We will call the campaign 'SEM_Sofas' to describe the group of keywords and products.</p>"
   ]
  },
  {
   "cell_type": "code",
   "execution_count": null,
   "id": "0a7373a9",
   "metadata": {},
   "outputs": [],
   "source": [
    "# Add a campaign column\n",
    "keywords_df['Campaign'] = 'SEM_Sofas'"
   ]
  },
  {
   "cell_type": "markdown",
   "id": "9516f546",
   "metadata": {},
   "source": [
    "## Add a column for Match Type\n",
    "<p>There are different keyword match types. One match type is exact match, which is for matching the exact term or are close variations of that exact term. Another match type is broad match, which means ads may show on searches that include misspellings, synonyms, related searches, and other relevant variations.</p>\n",
    "<p>According to Google's AdWords <a href=\"https://support.google.com/google-ads/answer/2497836?hl=en\">documentation</a>:</p>\n",
    "<blockquote>\n",
    "  <p>In general, the broader the match type, the more traffic potential that keyword will have, since your ads may be triggered more often. Conversely, a narrower match type means that your ads may show less often—but when they do, they’re likely to be more related to someone’s search.</p>\n",
    "</blockquote>\n",
    "<p>Since the client is tight on budget, we will start with exact matches to all the keywords.</p>"
   ]
  },
  {
   "cell_type": "code",
   "execution_count": null,
   "id": "e2dbdde2",
   "metadata": {},
   "outputs": [],
   "source": [
    "# Add a criterion type column\n",
    "keywords_df['Match Type'] = 'Exact'"
   ]
  },
  {
   "cell_type": "markdown",
   "id": "ff9bfeba",
   "metadata": {},
   "source": [
    "## Duplicate all the keywords into 'phrase' match\n",
    "<p>Exact matches are very specific and we can control the process very well. However, the search volume for exact matches is lower than other match types. We are also not able to cover all the ways in which people search, which will result in missing out on some high-quality keywords.</p>\n",
    "\n",
    "<p>Therefore, we will use another match type, phrase match, as a discovery mechanism to allow our ads to be triggered by keywords that include our exact match keywords, together with anything before or after them.</p>\n",
    "\n",
    "<p>When we launch the campaign, we can explore other match types, to achieve better visibility and control of the marketing campaign.</p>"
   ]
  },
  {
   "cell_type": "code",
   "execution_count": null,
   "id": "0d4b8f9d",
   "metadata": {},
   "outputs": [],
   "source": [
    "# Make a copy of the keywords_df DataFrame\n",
    "keywords_phrase = keywords_df.copy()\n",
    "\n",
    "# Change match type to phrase\n",
    "keywords_phrase['Match Type'] = 'Phrase'\n",
    "\n",
    "# Append both DataFrames\n",
    "keywords_df_final = pd.concat([keywords_df, keywords_phrase])"
   ]
  },
  {
   "cell_type": "markdown",
   "id": "beca99a2",
   "metadata": {},
   "source": [
    "## Save the DataFrame as a CSV file\n",
    "<p>We will save the DataFrame as a CSV file to import it to AdWords editor or BingAds editor to kickstart the SEM campaign.</p>"
   ]
  },
  {
   "cell_type": "code",
   "execution_count": null,
   "id": "1f4a0f85",
   "metadata": {},
   "outputs": [],
   "source": [
    "# Save the DataFrame to a CSV file\n",
    "keywords_df_final.to_csv('keywords.csv', index=False)"
   ]
  },
  {
   "cell_type": "markdown",
   "id": "a1b2c30f",
   "metadata": {},
   "source": [
    "## Summarise the campaign structure\n",
    "<p>We can look at a summary of our campaign structure by grouping by ad group and match type and counting by keyword. This summary shows us that we assigned specific keywords to specific ad groups, which are all part of the overall SEM_Sofas campaign. In essence, we are telling the search engine that we want any of the keywords in each ad group to trigger one of the ads in the same ad group.</p>"
   ]
  },
  {
   "cell_type": "code",
   "execution_count": null,
   "id": "be03f202",
   "metadata": {},
   "outputs": [],
   "source": [
    "# View a summary of our campaign work\n",
    "summary = keywords_df_final.groupby(['Ad Group', 'Criterion Type'])['Keyword'].count()\n",
    "print(summary)"
   ]
  },
  {
   "cell_type": "markdown",
   "id": "fd686471",
   "metadata": {},
   "source": [
    "<p>Beyond this, we will have to create another table to contain the ad details, such as headlines, descriptions and landing page URLs, to complete the SEM campaign.</p>"
   ]
  }
 ],
 "metadata": {
  "kernelspec": {
   "display_name": "Python 3",
   "language": "python",
   "name": "python3"
  },
  "language_info": {
   "codemirror_mode": {
    "name": "ipython",
    "version": 3
   },
   "file_extension": ".py",
   "mimetype": "text/x-python",
   "name": "python",
   "nbconvert_exporter": "python",
   "pygments_lexer": "ipython3",
   "version": "3.8.8"
  }
 },
 "nbformat": 4,
 "nbformat_minor": 5
}
